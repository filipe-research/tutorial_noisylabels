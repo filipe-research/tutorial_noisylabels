{
  "nbformat": 4,
  "nbformat_minor": 0,
  "metadata": {
    "colab": {
      "name": "tutorial_sibgrapi20.ipynb",
      "provenance": [],
      "collapsed_sections": [
        "1ZrCCsqrud6C"
      ],
      "authorship_tag": "ABX9TyND2GJHKYYQvyW5SmO3EIct",
      "include_colab_link": true
    },
    "kernelspec": {
      "name": "python3",
      "display_name": "Python 3"
    }
  },
  "cells": [
    {
      "cell_type": "markdown",
      "metadata": {
        "id": "view-in-github",
        "colab_type": "text"
      },
      "source": [
        "<a href=\"https://colab.research.google.com/github/filipe-research/tutorial_noisylabels/blob/main/codes/tutorial_sibgrapi20.ipynb\" target=\"_parent\"><img src=\"https://colab.research.google.com/assets/colab-badge.svg\" alt=\"Open In Colab\"/></a>"
      ]
    },
    {
      "cell_type": "markdown",
      "metadata": {
        "id": "vaoig2tDG2Yx"
      },
      "source": [
        "# Tutorial: How to train your model when you cannot trust onthe annotations? - SIGBRAPI 2020\n",
        "\n",
        "Authors: Filipe Cordeiro, Gustavo Carneiro\\\n",
        "github: https://github.com/filipe-research/tutorial_noisylabels"
      ]
    },
    {
      "cell_type": "markdown",
      "metadata": {
        "id": "1WWHNBr8tHRr"
      },
      "source": [
        "DATASET: \n",
        "\"MNIST (\"Modified National Institute of Standards and Technology\") is the de facto “hello world” dataset of computer vision. Since its release in 1999, this classic dataset of handwritten images has served as the basis for benchmarking classification algorithms. As new machine learning techniques emerge, MNIST remains a reliable resource for researchers and learners alike.\"\n",
        "\n",
        "[Read more.](https://www.kaggle.com/c/digit-recognizer)\n",
        "\n",
        "\n",
        "<a title=\"By Josef Steppan [CC BY-SA 4.0 (https://creativecommons.org/licenses/by-sa/4.0)], from Wikimedia Commons\" href=\"https://commons.wikimedia.org/wiki/File:MnistExamples.png\"><img width=\"512\" alt=\"MnistExamples\" src=\"https://upload.wikimedia.org/wikipedia/commons/2/27/MnistExamples.png\"/></a>"
      ]
    },
    {
      "cell_type": "markdown",
      "metadata": {
        "id": "BN4wNtYaLZGE"
      },
      "source": [
        "# Setup\n",
        "\n",
        "import libraries, hyperparameters and main methods"
      ]
    },
    {
      "cell_type": "code",
      "metadata": {
        "id": "DRJuYj3TXt6F",
        "cellView": "both"
      },
      "source": [
        "#@title Import Dependencies\n",
        "\n",
        "import torch\n",
        "import torch.nn as nn\n",
        "import torchvision.datasets as dsets\n",
        "import torchvision.transforms as transforms\n",
        "from torch.utils.data import Subset\n",
        "import numpy as np\n",
        "import random\n",
        "import matplotlib.pyplot as plt\n",
        "import torch.nn.functional as F\n",
        "from sklearn.mixture import GaussianMixture\n",
        "import seaborn as sn\n",
        "import pandas as pd\n",
        "%matplotlib inline\n",
        "%config InlineBackend.figure_format = 'retina'"
      ],
      "execution_count": 62,
      "outputs": []
    },
    {
      "cell_type": "code",
      "metadata": {
        "id": "yi2xjx4NZpDu"
      },
      "source": [
        "#@title Define Hyperparameters\n",
        "\n",
        "training_size= 2000\n",
        "num_epochs = 50 # number of times which the entire dataset is passed throughout the model\n",
        "batch_size = 128 # the size of input data took for one iteration\n",
        "lr = 1e-3 # size of step\n",
        "seed=123\n",
        "\n",
        "random.seed(seed)\n",
        "torch.manual_seed(seed)\n",
        "torch.cuda.manual_seed_all(seed)\n",
        "\n",
        "device = torch.device(\"cuda:0\" if torch.cuda.is_available() else \"cpu\")\n",
        "print(device)"
      ],
      "execution_count": null,
      "outputs": []
    },
    {
      "cell_type": "code",
      "metadata": {
        "id": "EXWpKnM1YNs0",
        "cellView": "both"
      },
      "source": [
        "#@title Downloading MNIST data\n",
        "\n",
        "train_data = dsets.MNIST(root = './data', train = True,\n",
        "                        transform=transforms.Compose([\n",
        "                           transforms.ToTensor(),\n",
        "                           transforms.Normalize((0.1307,), (0.3081,)),\n",
        "                       ]), download = True)\n",
        "\n",
        "test_data = dsets.MNIST(root = './data', train = False,\n",
        "                       transform=transforms.Compose([\n",
        "                           transforms.ToTensor(),\n",
        "                           transforms.Normalize((0.1307,), (0.3081,)),\n",
        "                       ]))"
      ],
      "execution_count": 115,
      "outputs": []
    },
    {
      "cell_type": "code",
      "metadata": {
        "id": "dA5FjjwlYope"
      },
      "source": [
        "# Reduce training size  (just for fast training during the tutorial)\n",
        "train_data.data = train_data.data[:training_size]\n",
        "train_data.targets = train_data.targets[:training_size]"
      ],
      "execution_count": 116,
      "outputs": []
    },
    {
      "cell_type": "code",
      "metadata": {
        "id": "6xkO6mssbKiE"
      },
      "source": [
        "#generate dataloaders\n",
        "train_loader = torch.utils.data.DataLoader(dataset = train_data,\n",
        "                                             batch_size = batch_size,\n",
        "                                             shuffle = True,num_workers=4,pin_memory=True)\n",
        "\n",
        "eval_loader = torch.utils.data.DataLoader(dataset = train_data,\n",
        "                                             batch_size = batch_size,\n",
        "                                             shuffle = False,num_workers=4,pin_memory=True)\n",
        "\n",
        "test_loader = torch.utils.data.DataLoader(dataset = test_data,\n",
        "                                      batch_size = batch_size, \n",
        "                                      shuffle = False,num_workers=4)"
      ],
      "execution_count": 117,
      "outputs": []
    },
    {
      "cell_type": "code",
      "metadata": {
        "id": "09htCjN-cF-P"
      },
      "source": [
        "#plot images of dataset\n",
        "\n",
        "examples = enumerate(test_loader)\n",
        "batch_idx, (example_data, example_targets) = next(examples)\n",
        "\n",
        "fig = plt.figure(figsize=(10,6))\n",
        "for i in range(15):\n",
        "  plt.subplot(3,5,i+1)\n",
        "  plt.imshow(example_data[i][0], cmap='gray', interpolation='none')\n",
        "  plt.title(\"Ground Truth: {}\".format(example_targets[i]))\n",
        "  plt.xticks([])\n",
        "  plt.yticks([])"
      ],
      "execution_count": null,
      "outputs": []
    },
    {
      "cell_type": "code",
      "metadata": {
        "id": "7NYQEP2WyYKf"
      },
      "source": [
        "#@title CNN Arquitecture\n",
        "#CNN Architecture\n",
        "\n",
        "class Net(nn.Module):\n",
        "    def __init__(self):\n",
        "        super(Net, self).__init__()\n",
        "        self.conv1 = nn.Conv2d(1, 10, kernel_size=5)\n",
        "        self.conv2 = nn.Conv2d(10, 20, kernel_size=5)\n",
        "        self.conv2_drop = nn.Dropout2d()\n",
        "        self.fc1 = nn.Linear(320, 30)\n",
        "        self.fc2 = nn.Linear(30, 10)\n",
        "\n",
        "    def forward(self, x):\n",
        "        x = F.relu(F.max_pool2d(self.conv1(x), 2))\n",
        "        x = F.relu(F.max_pool2d(self.conv2_drop(self.conv2(x)), 2))\n",
        "        x = x.view(-1, 320)\n",
        "        x = F.relu(self.fc1(x))\n",
        "        x = F.dropout(x, training=self.training)\n",
        "        x = self.fc2(x)\n",
        "        return(x)"
      ],
      "execution_count": 119,
      "outputs": []
    },
    {
      "cell_type": "code",
      "metadata": {
        "id": "23sUxKZCa6wF"
      },
      "source": [
        "ce_loss = nn.CrossEntropyLoss().to(device)"
      ],
      "execution_count": 120,
      "outputs": []
    },
    {
      "cell_type": "code",
      "metadata": {
        "id": "Wv0NEXqHGh2H"
      },
      "source": [
        "#@title test method\n",
        "def test(net, loss_function, loader):\n",
        "  net.eval()\n",
        "  test_loss = 0\n",
        "  correct = 0\n",
        "  \n",
        "  with torch.no_grad():\n",
        "    for data, target in loader:\n",
        "      data, target = data.to(device), target.to(device)\n",
        "      output = net(data)\n",
        "      test_loss += loss_function(output, target)\n",
        "      _, pred = torch.max(output, 1)  \n",
        "      correct += pred.eq(target).cpu().sum().item() \n",
        "  acc = 100.*correct/len(loader.dataset)\n",
        "  test_loss /= len(loader)\n",
        "  \n",
        "  return acc, test_loss"
      ],
      "execution_count": 121,
      "outputs": []
    },
    {
      "cell_type": "code",
      "metadata": {
        "id": "eEOyCUwzp9mk"
      },
      "source": [
        "#@title evaluate method\n",
        "\n",
        "def eval(net, loader):\n",
        "  net.eval()\n",
        "  \n",
        "  losses = torch.zeros(len(loader.dataset))    \n",
        "  CE = nn.CrossEntropyLoss(reduction='none')\n",
        "  with torch.no_grad():\n",
        "    for i ,(images,labels) in enumerate(loader):\n",
        "        images = images.to(device)\n",
        "        labels = labels.to(device)\n",
        "        outputs = net(images)\n",
        "        loss = CE(outputs, labels)\n",
        "        for b in range(images.size(0)):\n",
        "          idx = batch_size*i+b\n",
        "          losses[idx]=loss[b] \n",
        "  \n",
        "  losses = (losses-losses.min())/(losses.max()-losses.min())    \n",
        "  input_loss = losses.reshape(-1,1)\n",
        "\n",
        "  # fit a two-component GMM to the loss\n",
        "  gmm = GaussianMixture(n_components=2,max_iter=50,tol=1e-2,reg_covar=5e-4)\n",
        "  gmm.fit(input_loss)\n",
        "  prob = gmm.predict_proba(input_loss) \n",
        "  prob = prob[:,gmm.means_.argmin()] \n",
        "  return losses, prob\n",
        "\n"
      ],
      "execution_count": 106,
      "outputs": []
    },
    {
      "cell_type": "code",
      "metadata": {
        "id": "FBKt_Y9JAZHf"
      },
      "source": [
        "def train_epoch(net, loss_function, dataloader, optimizer):\n",
        "  train_loss = train_acc = correct = 0\n",
        "  net.train()\n",
        "  for i ,(images,labels) in enumerate(dataloader):\n",
        "    images = images.to(device)\n",
        "    labels = labels.to(device)\n",
        "    \n",
        "    optimizer.zero_grad()\n",
        "    outputs = net(images)\n",
        "    loss = loss_function(outputs, labels)\n",
        "    train_loss+= loss\n",
        "    loss.backward()\n",
        "\n",
        "    optimizer.step()\n",
        "\n",
        "    _, pred = torch.max(outputs, 1)  \n",
        "    correct += pred.eq(labels).cpu().sum().item() \n",
        "        \n",
        "  train_loss/=len(dataloader)\n",
        "  train_acc=100.*correct/len(dataloader.dataset)\n",
        "  return train_loss, train_acc"
      ],
      "execution_count": 107,
      "outputs": []
    },
    {
      "cell_type": "code",
      "metadata": {
        "id": "e4Ex9GknBjsQ"
      },
      "source": [
        "def train_test_model(loss_function):\n",
        "  torch.manual_seed(seed)\n",
        "  net = Net()\n",
        "  net = net.to(device)\n",
        "  optimizer = torch.optim.Adam( net.parameters(), lr=lr) \n",
        "\n",
        "  logs={'train_loss':[],'train_acc':[], 'test_loss':[], 'test_acc':[],'eval_loss':[]}\n",
        "\n",
        "  for epoch in range(num_epochs):\n",
        "    train_loss, train_acc = train_epoch(net, loss_function, train_loader, optimizer)\n",
        "    \n",
        "    logs['train_loss'].append(train_loss)\n",
        "    logs['train_acc'].append(train_acc)\n",
        "\n",
        "    eval_loss, _ = eval(net, eval_loader)\n",
        "    logs['eval_loss'].append(eval_loss)\n",
        "    \n",
        "    acc_test, loss_test=test(net, loss_function, test_loader)\n",
        "    logs['test_loss'].append(loss_test)\n",
        "    logs['test_acc'].append(acc_test)\n",
        "\n",
        "    print('Epoch [{}/{}],\\ttrain loss:{:.4f},\\ttrain acc:{:.2f},\\ttest loss:{:.4f},\\ttest accuracy:{:.2f}'.format(epoch,num_epochs,train_loss,train_acc, loss_test, acc_test))\n",
        "  return logs\n"
      ],
      "execution_count": 108,
      "outputs": []
    },
    {
      "cell_type": "markdown",
      "metadata": {
        "id": "2xTsEh_QLMA5"
      },
      "source": [
        "# Run Baseline"
      ]
    },
    {
      "cell_type": "code",
      "metadata": {
        "id": "6Huta4yh6Fv9"
      },
      "source": [
        "#run baseline\n",
        "logs_baseline = train_test_model(ce_loss)"
      ],
      "execution_count": null,
      "outputs": []
    },
    {
      "cell_type": "code",
      "metadata": {
        "id": "uBQ6MzVSpYr5"
      },
      "source": [
        "fig = plt.figure(figsize=(14,4))\n",
        "plt.subplot(1,2,1)\n",
        "plt.plot(logs_baseline['train_acc'], label='train', linewidth=2)\n",
        "plt.plot(logs_baseline['test_acc'], label='test', linewidth=2)\n",
        "plt.legend(frameon=False)\n",
        "plt.grid(True, color=\"#93a1a1\", alpha=0.3)\n",
        "plt.ylabel(\"Accuracy\", labelpad=15, fontsize=12, color=\"#333533\", fontweight='bold');\n",
        "plt.xlabel(\"Epoch\", labelpad=15, fontsize=12, color=\"#333533\", fontweight='bold');\n",
        "\n",
        "plt.subplot(1,2,2)\n",
        "plt.plot(logs_baseline['train_loss'], label='Training loss', linewidth=2)\n",
        "plt.plot(logs_baseline['test_loss'], label='Validation loss', linewidth=2)\n",
        "plt.legend(frameon=False)\n",
        "# plt.grid()\n",
        "plt.grid(True, color=\"#93a1a1\", alpha=0.3)\n",
        "plt.xlabel(\"Epoch\", labelpad=15, fontsize=12, color=\"#333533\", fontweight='bold');\n",
        "plt.ylabel(\"Loss\", labelpad=15, fontsize=12, color=\"#333533\", fontweight='bold');\n"
      ],
      "execution_count": null,
      "outputs": []
    },
    {
      "cell_type": "markdown",
      "metadata": {
        "id": "jUFPyP9itC8M"
      },
      "source": [
        "# Generate Noisy MNIST\n",
        "\n",
        "Build synthetic noise benchmark on MNIST"
      ]
    },
    {
      "cell_type": "code",
      "metadata": {
        "id": "P_yPsPpnq8iQ"
      },
      "source": [
        "gt_labels = train_data.targets.clone()   #ground truth labels (clean)"
      ],
      "execution_count": 124,
      "outputs": []
    },
    {
      "cell_type": "code",
      "metadata": {
        "id": "Ghufl14KazUw"
      },
      "source": [
        "##generate noise\n",
        "\n",
        "transition = {0:0,2:0,4:7,7:7,1:1,9:1,3:5,5:3,6:6,8:8} # class transition for asymmetric noise\n",
        "\n",
        "def generate_noise(nr, gt_labels, noise_mode='sym'):\n",
        "  noise_label = []\n",
        "  idx = list(range(len(gt_labels)))\n",
        "  random.shuffle(idx)\n",
        "  num_noise = int(nr*len(gt_labels))            \n",
        "  noise_idx = idx[:num_noise]\n",
        "  for i in range(len(gt_labels)):\n",
        "      if i in noise_idx:\n",
        "        if noise_mode=='sym':\n",
        "          noiselabel = random.randint(0,9)  \n",
        "          noise_label.append(noiselabel)\n",
        "        elif noise_mode=='asym':   \n",
        "          noiselabel = transition[gt_labels[i].item()]\n",
        "          noise_label.append(noiselabel)                    \n",
        "      else:    \n",
        "        noise_label.append(gt_labels[i])  \n",
        "  return torch.tensor(noise_label)"
      ],
      "execution_count": 125,
      "outputs": []
    },
    {
      "cell_type": "code",
      "metadata": {
        "id": "KWptIUJMMlug"
      },
      "source": [
        "#generate noisy_benchmark\n",
        "label_noise={}\n",
        "label_noise['50_sym']=generate_noise(0.5, gt_labels, 'sym')\n",
        "label_noise['70_sym']=generate_noise(0.7, gt_labels, 'sym')\n",
        "label_noise['40_asym']=generate_noise(0.4, gt_labels, 'asym')"
      ],
      "execution_count": 126,
      "outputs": []
    },
    {
      "cell_type": "code",
      "metadata": {
        "id": "LQ3vbE0ofak5"
      },
      "source": [
        "print('real noise rate:{:.2f}'.format((np.array(label_noise['70_sym'])!=np.array(gt_labels)).sum()/len(gt_labels)))"
      ],
      "execution_count": null,
      "outputs": []
    },
    {
      "cell_type": "code",
      "metadata": {
        "id": "dsWRLivRYqZB"
      },
      "source": [
        "#plot images of dataset\n",
        "\n",
        "# train_data.targets = label_noise['70_sym']  #update current labels\n",
        "train_loader.dataset.targets = label_noise['70_sym'].clone()\n",
        "examples = enumerate(train_loader)\n",
        "batch_idx, (example_data, example_targets) = next(examples)\n",
        "\n",
        "fig = plt.figure(figsize=(10,6))\n",
        "for i in range(15):\n",
        "  plt.subplot(3,5,i+1)\n",
        "  plt.imshow(example_data[i][0], cmap='gray', interpolation='none')\n",
        "  plt.title(\"label: {}\".format(example_targets[i]))\n",
        "  plt.xticks([])\n",
        "  plt.yticks([])"
      ],
      "execution_count": null,
      "outputs": []
    },
    {
      "cell_type": "code",
      "metadata": {
        "id": "tIfWVsPrXwyQ"
      },
      "source": [
        "noisy_map = np.zeros((10, 10))\n",
        "nl = label_noise['70_sym']\n",
        "for i in range(len(gt_labels)):\n",
        "  noisy_map[int(nl[i])][int(gt_labels[i])] += 1\n",
        "\n",
        "#calculate de percentage. Divides each element by the sum of the row\n",
        "percent_map = noisy_map/noisy_map.sum(axis=0, keepdims=True)"
      ],
      "execution_count": 129,
      "outputs": []
    },
    {
      "cell_type": "code",
      "metadata": {
        "id": "Cxflo7QsY19C"
      },
      "source": [
        "df_cm = pd.DataFrame(percent_map, index = [0,1,2,3,4,5,6,7,8,9],\n",
        "                  columns = list(range(10)))\n",
        "plt.figure(figsize = (8,6))\n",
        "\n",
        "sn.heatmap(df_cm, annot=True)\n",
        "plt.ylabel('noisy labels')\n",
        "plt.xlabel('true labels')\n"
      ],
      "execution_count": null,
      "outputs": []
    },
    {
      "cell_type": "code",
      "metadata": {
        "id": "hd96r-G9aAC0"
      },
      "source": [
        "unique_elements, counts_elements = np.unique(nl, return_counts=True)\n",
        "# unique_elements, counts_elements = np.unique(gt_labels, return_counts=True)"
      ],
      "execution_count": 84,
      "outputs": []
    },
    {
      "cell_type": "code",
      "metadata": {
        "id": "pNee3-FaaDKn"
      },
      "source": [
        "plt.bar(unique_elements,counts_elements)"
      ],
      "execution_count": null,
      "outputs": []
    },
    {
      "cell_type": "markdown",
      "metadata": {
        "id": "0Ywe_lYxRSgk"
      },
      "source": [
        "## Train noisy baseline"
      ]
    },
    {
      "cell_type": "code",
      "metadata": {
        "id": "j03rY9Uh8AeZ"
      },
      "source": [
        "#train with 50% noise rate\n",
        "train_loader.dataset.targets = label_noise['50_sym'].clone()  #update current labels\n",
        "logs_nb_50_sym = train_test_model(ce_loss)"
      ],
      "execution_count": null,
      "outputs": []
    },
    {
      "cell_type": "code",
      "metadata": {
        "id": "t7IF70IHSr-A"
      },
      "source": [
        "#train with 50% noise rate\n",
        "train_loader.dataset.targets = label_noise['70_sym'].clone()  #update current labels\n",
        "logs_nb_70_sym = train_test_model(ce_loss)"
      ],
      "execution_count": null,
      "outputs": []
    },
    {
      "cell_type": "code",
      "metadata": {
        "id": "rfTqFGtq90KH"
      },
      "source": [
        "#train with 40% asym. noise rate\n",
        "train_loader.dataset.targets = label_noise['40_asym'].clone()  #update current labels\n",
        "logs_nb_40_asym = train_test_model(ce_loss)"
      ],
      "execution_count": null,
      "outputs": []
    },
    {
      "cell_type": "code",
      "metadata": {
        "id": "5MBgZzr0UurG"
      },
      "source": [
        "fig = plt.figure(figsize=(14,5))\n",
        "plt.subplot(1,2,1)\n",
        "plt.plot(logs_baseline['train_acc'], label='train_clean', linewidth=2, linestyle='--',color='k')\n",
        "plt.plot(logs_nb_50_sym['train_acc'], label='train_50_sym', linewidth=2, linestyle='--', color='r')\n",
        "plt.plot(logs_nb_70_sym['train_acc'], label='train_70_sym', linewidth=2, linestyle='--', color='g')\n",
        "plt.plot(logs_nb_40_asym['train_acc'], label='train_40_asym', linewidth=2, linestyle='--', color='b')\n",
        "plt.plot(logs_baseline['test_acc'], label='test_clean', linewidth=2, color='k')\n",
        "plt.plot(logs_nb_50_sym['test_acc'], label='test_50_sym', linewidth=2, color='r')\n",
        "plt.plot(logs_nb_70_sym['test_acc'], label='test_70_sym', linewidth=2, color='g')\n",
        "plt.plot(logs_nb_40_asym['test_acc'], label='test_40_asym', linewidth=2, color='b')\n",
        "# plt.legend(frameon=False)\n",
        "plt.grid(True, color=\"#93a1a1\", alpha=0.3)\n",
        "plt.ylabel(\"Accuracy\", labelpad=15, fontsize=12, color=\"#333533\", fontweight='bold');\n",
        "plt.xlabel(\"Epoch\", labelpad=15, fontsize=12, color=\"#333533\", fontweight='bold');\n",
        "plt.legend(loc='upper center', bbox_to_anchor=(0.5, -0.2),\n",
        "          fancybox=True, shadow=True, ncol=4)\n",
        "\n",
        "plt.subplot(1,2,2)\n",
        "plt.plot(logs_baseline['train_loss'], label='train_clean', linewidth=2, linestyle='--',color='k')\n",
        "plt.plot(logs_nb_50_sym['train_loss'], label='train_50_sym', linewidth=2, linestyle='--', color='r')\n",
        "plt.plot(logs_nb_70_sym['train_loss'], label='train_70_sym', linewidth=2, linestyle='--', color='g')\n",
        "plt.plot(logs_nb_40_asym['train_loss'], label='train_40_asym', linewidth=2, linestyle='--', color='b')\n",
        "plt.plot(logs_baseline['test_loss'], label='test_clean', linewidth=2, color='k')\n",
        "plt.plot(logs_nb_50_sym['test_loss'], label='test_50_sym', linewidth=2, color='r')\n",
        "plt.plot(logs_nb_70_sym['test_loss'], label='test_70_sym', linewidth=2, color='g')\n",
        "plt.plot(logs_nb_40_asym['test_loss'], label='test_40_asym', linewidth=2, color='b')\n",
        "# plt.legend(frameon=False)\n",
        "plt.grid(True, color=\"#93a1a1\", alpha=0.3)\n",
        "plt.xlabel(\"Epoch\", labelpad=15, fontsize=12, color=\"#333533\", fontweight='bold');\n",
        "plt.ylabel(\"Loss\", labelpad=15, fontsize=12, color=\"#333533\", fontweight='bold');"
      ],
      "execution_count": null,
      "outputs": []
    },
    {
      "cell_type": "markdown",
      "metadata": {
        "id": "K8aeLfzpgAEY"
      },
      "source": [
        "# Combating Noisy Labels"
      ]
    },
    {
      "cell_type": "markdown",
      "metadata": {
        "id": "s7CBu1yggRMk"
      },
      "source": [
        "## Robust Loss"
      ]
    },
    {
      "cell_type": "code",
      "metadata": {
        "id": "-ada_gdE9r7m"
      },
      "source": [
        "#Active Passive Loss (ICML 2020)\n",
        "#paper code: https://github.com/HanxunH/Active-Passive-Losses"
      ],
      "execution_count": 130,
      "outputs": []
    },
    {
      "cell_type": "code",
      "metadata": {
        "id": "Y-KbXXgNAWME"
      },
      "source": [
        "class NormalizedCrossEntropy(torch.nn.Module):\n",
        "    def __init__(self, num_classes=10, scale=1.0):\n",
        "        super(NormalizedCrossEntropy, self).__init__()\n",
        "        self.device = device\n",
        "        self.num_classes = num_classes\n",
        "        self.scale = scale\n",
        "\n",
        "    def forward(self, pred, labels):\n",
        "        pred = F.log_softmax(pred, dim=1)\n",
        "        label_one_hot = torch.nn.functional.one_hot(labels, self.num_classes).float()\n",
        "        nce = -1 * torch.sum(label_one_hot * pred, dim=1) / (- pred.sum(dim=1))\n",
        "        return self.scale * nce.mean()"
      ],
      "execution_count": 89,
      "outputs": []
    },
    {
      "cell_type": "code",
      "metadata": {
        "id": "X4WTiQi-AluW"
      },
      "source": [
        "class ReverseCrossEntropy(torch.nn.Module):\n",
        "    def __init__(self, num_classes, scale=1.0):\n",
        "        super(ReverseCrossEntropy, self).__init__()\n",
        "        self.device = device\n",
        "        self.num_classes = num_classes\n",
        "        self.scale = scale\n",
        "\n",
        "    def forward(self, pred, labels):\n",
        "        pred = F.softmax(pred, dim=1)\n",
        "        pred = torch.clamp(pred, min=1e-7, max=1.0)\n",
        "        label_one_hot = torch.nn.functional.one_hot(labels, self.num_classes).float().to(self.device)\n",
        "        label_one_hot = torch.clamp(label_one_hot, min=1e-4, max=1.0)\n",
        "        rce = (-1*torch.sum(pred * torch.log(label_one_hot), dim=1))\n",
        "        return self.scale * rce.mean()"
      ],
      "execution_count": 90,
      "outputs": []
    },
    {
      "cell_type": "code",
      "metadata": {
        "id": "ZS6FD_S0ABiN"
      },
      "source": [
        "class NCEandRCE(torch.nn.Module):\n",
        "    def __init__(self, alpha=0.1, beta=1, num_classes=10):\n",
        "        super(NCEandRCE, self).__init__()\n",
        "        self.num_classes = num_classes\n",
        "        self.nce = NormalizedCrossEntropy(scale=alpha, num_classes=num_classes)\n",
        "        self.rce = ReverseCrossEntropy(scale=beta, num_classes=num_classes)\n",
        "\n",
        "    def forward(self, pred, labels):\n",
        "        return self.nce(pred, labels) + self.rce(pred, labels)"
      ],
      "execution_count": 91,
      "outputs": []
    },
    {
      "cell_type": "code",
      "metadata": {
        "id": "D62rjSyTZlAR"
      },
      "source": [
        "class NormalizedFocalLoss(torch.nn.Module):\n",
        "    def __init__(self, scale=1.0, gamma=0, num_classes=10, alpha=None, size_average=True):\n",
        "        super(NormalizedFocalLoss, self).__init__()\n",
        "        self.gamma = gamma\n",
        "        self.size_average = size_average\n",
        "        self.num_classes = num_classes\n",
        "        self.scale = scale\n",
        "\n",
        "    def forward(self, input, target):\n",
        "        target = target.view(-1, 1)\n",
        "        logpt = F.log_softmax(input, dim=1)\n",
        "        normalizor = torch.sum(-1 * (1 - logpt.data.exp()) ** self.gamma * logpt, dim=1)\n",
        "        logpt = logpt.gather(1, target)\n",
        "        logpt = logpt.view(-1)\n",
        "        pt = torch.autograd.Variable(logpt.data.exp())\n",
        "        loss = -1 * (1-pt)**self.gamma * logpt\n",
        "        loss = self.scale * loss / normalizor\n",
        "\n",
        "        if self.size_average:\n",
        "            return loss.mean()\n",
        "        else:\n",
        "            return loss.sum()"
      ],
      "execution_count": 92,
      "outputs": []
    },
    {
      "cell_type": "code",
      "metadata": {
        "id": "GBWZBo7MZbCf"
      },
      "source": [
        "class NFLandRCE(torch.nn.Module):\n",
        "    def __init__(self, alpha, beta, num_classes=10, gamma=0.5):\n",
        "        super(NFLandRCE, self).__init__()\n",
        "        self.num_classes = num_classes\n",
        "        self.nfl = NormalizedFocalLoss(scale=alpha, gamma=gamma, num_classes=num_classes)\n",
        "        self.rce = ReverseCrossEntropy(scale=beta, num_classes=num_classes)\n",
        "\n",
        "    def forward(self, pred, labels):\n",
        "        return self.nfl(pred, labels) + self.rce(pred, labels)"
      ],
      "execution_count": 93,
      "outputs": []
    },
    {
      "cell_type": "code",
      "metadata": {
        "id": "mkon_NkxdN6D"
      },
      "source": [
        "class MeanAbsoluteError(torch.nn.Module):\n",
        "    def __init__(self, num_classes, scale=1.0):\n",
        "        super(MeanAbsoluteError, self).__init__()\n",
        "        self.device = device\n",
        "        self.num_classes = num_classes\n",
        "        self.scale = scale\n",
        "        return\n",
        "\n",
        "    def forward(self, pred, labels):\n",
        "        pred = F.softmax(pred, dim=1)\n",
        "        label_one_hot = torch.nn.functional.one_hot(labels, self.num_classes).float().to(self.device)\n",
        "        mae = 1. - torch.sum(label_one_hot * pred, dim=1)\n",
        "        # Note: Reduced MAE\n",
        "        # Original: torch.abs(pred - label_one_hot).sum(dim=1)\n",
        "        # $MAE = \\sum_{k=1}^{K} |\\bm{p}(k|\\bm{x}) - \\bm{q}(k|\\bm{x})|$\n",
        "        # $MAE = \\sum_{k=1}^{K}\\bm{p}(k|\\bm{x}) - p(y|\\bm{x}) + (1 - p(y|\\bm{x}))$\n",
        "        # $MAE = 2 - 2p(y|\\bm{x})$\n",
        "        #\n",
        "        return self.scale * mae.mean()"
      ],
      "execution_count": 94,
      "outputs": []
    },
    {
      "cell_type": "code",
      "metadata": {
        "id": "vVodnr2wdBep"
      },
      "source": [
        "class NCEandMAE(torch.nn.Module):\n",
        "    def __init__(self, alpha, beta, num_classes=10):\n",
        "        super(NCEandMAE, self).__init__()\n",
        "        self.num_classes = num_classes\n",
        "        self.nce = NormalizedCrossEntropy(scale=alpha, num_classes=num_classes)\n",
        "        self.mae = MeanAbsoluteError(scale=beta, num_classes=num_classes)\n",
        "\n",
        "    def forward(self, pred, labels):\n",
        "        return self.nce(pred, labels) + self.mae(pred, labels)"
      ],
      "execution_count": 95,
      "outputs": []
    },
    {
      "cell_type": "markdown",
      "metadata": {
        "id": "6VUu_4tTljdH"
      },
      "source": [
        "### Train with APL "
      ]
    },
    {
      "cell_type": "code",
      "metadata": {
        "id": "7ChbOSlCgWIm"
      },
      "source": [
        "#train with 70% noise rate\n",
        "train_loader.dataset.targets = label_noise['70_sym'].clone()  #update current labels\n",
        "criterion =NCEandMAE(alpha=1, beta=1)\n",
        "logs_apl_70_sym = train_test_model(criterion)"
      ],
      "execution_count": null,
      "outputs": []
    },
    {
      "cell_type": "code",
      "metadata": {
        "id": "HtG5LMy7l259"
      },
      "source": [
        "fig = plt.figure(figsize=(14,5))\n",
        "plt.subplot(1,2,1)\n",
        "plt.plot(logs_baseline['test_acc'], label='test_baseline_clean', linewidth=2, color='k')\n",
        "plt.plot(logs_nb_70_sym['test_acc'], label='test_baseline_70_sym', linewidth=2, color='r')\n",
        "plt.plot(logs_apl_70_sym['test_acc'], label='test__APL_70_sym', linewidth=2, color='b')\n",
        "# plt.plot(logs_nb_40_asym['test_acc'], label='test_40_asym', linewidth=2, color='b')\n",
        "plt.grid(True, color=\"#93a1a1\", alpha=0.3)\n",
        "plt.ylabel(\"Accuracy\", labelpad=15, fontsize=12, color=\"#333533\", fontweight='bold');\n",
        "plt.xlabel(\"Epoch\", labelpad=15, fontsize=12, color=\"#333533\", fontweight='bold');\n",
        "plt.legend(loc='upper center', bbox_to_anchor=(0.5, -0.2),\n",
        "          fancybox=True, shadow=True, ncol=4)\n",
        "plt.ylim(70, 100,10)\n"
      ],
      "execution_count": null,
      "outputs": []
    },
    {
      "cell_type": "markdown",
      "metadata": {
        "id": "Y0iU1KNwgg9c"
      },
      "source": [
        "### small-loss trick"
      ]
    },
    {
      "cell_type": "code",
      "metadata": {
        "id": "VxhqpwY50z8k"
      },
      "source": [
        "# noisy_labels = label_noise['70_sym']\n",
        "nl = label_noise['70_sym']\n",
        "inds_noisy = np.asarray([ind for ind in range(len(nl)) if nl[ind] != gt_labels[ind]])\n",
        "inds_clean = np.delete(np.arange(len(nl)), inds_noisy)"
      ],
      "execution_count": 40,
      "outputs": []
    },
    {
      "cell_type": "code",
      "metadata": {
        "id": "nijAOl4I15lU"
      },
      "source": [
        "plt.hist(logs_nb_70_sym['eval_loss'][-1][inds_noisy],label='noisy',bins=100,alpha=0.5)\n",
        "plt.hist(logs_nb_70_sym['eval_loss'][-1][inds_clean],label='clean',bins=100,alpha=0.5)\n",
        "plt.xlabel(\"Normalized loss\", labelpad=15, fontsize=12, color=\"#333533\", fontweight='bold');\n",
        "plt.legend()"
      ],
      "execution_count": null,
      "outputs": []
    },
    {
      "cell_type": "code",
      "metadata": {
        "id": "JkXsjASH3pbL"
      },
      "source": [
        "avg_loss_clean = [logs_nb_70_sym['eval_loss'][i][inds_clean].mean() for i in range(num_epochs)]\n",
        "avg_loss_noisy = [logs_nb_70_sym['eval_loss'][i][inds_noisy].mean() for i in range(num_epochs)]"
      ],
      "execution_count": 43,
      "outputs": []
    },
    {
      "cell_type": "code",
      "metadata": {
        "id": "mVKKO4YpgvBA"
      },
      "source": [
        "plt.plot(avg_loss_clean, label='clean',linewidth=2)\n",
        "plt.plot(avg_loss_noisy, label='noisy',linewidth=2)\n",
        "plt.ylabel(\"Avg. Loss\", labelpad=15, fontsize=12, color=\"#333533\", fontweight='bold');\n",
        "plt.xlabel(\"Epoch\", labelpad=15, fontsize=12, color=\"#333533\", fontweight='bold');\n",
        "plt.legend()"
      ],
      "execution_count": null,
      "outputs": []
    },
    {
      "cell_type": "markdown",
      "metadata": {
        "id": "lEaN8JhW4bCM"
      },
      "source": [
        "## Remove Noisy Samples"
      ]
    },
    {
      "cell_type": "code",
      "metadata": {
        "id": "OrKec-KO4mik"
      },
      "source": [
        "def train_test_filtering(loss_function,trainloader):\n",
        "  torch.manual_seed(seed)\n",
        "  net = Net()\n",
        "  net = net.to(device)\n",
        "  optimizer = torch.optim.Adam( net.parameters(), lr=lr) \n",
        "\n",
        "  logs={'train_loss':[],'train_acc':[], 'test_loss':[], 'test_acc':[],'eval_loss':[]}\n",
        "\n",
        "  for epoch in range(num_epochs):\n",
        "    train_loss, train_acc = train_epoch(net, loss_function, trainloader, optimizer)\n",
        "    \n",
        "    logs['train_loss'].append(train_loss)\n",
        "    logs['train_acc'].append(train_acc)\n",
        "    eval_loss, prob = eval(net, eval_loader)\n",
        "    logs['eval_loss'].append(eval_loss)\n",
        "    \n",
        "    acc_test, loss_test=test(net, loss_function, test_loader)\n",
        "    logs['test_loss'].append(loss_test)\n",
        "    logs['test_acc'].append(acc_test)\n",
        "\n",
        "    if epoch>10:\n",
        "      pred_idx_clean = (prob > 0.5).nonzero()[0]\n",
        "      \n",
        "      train_clean = Subset(train_data, pred_idx_clean)    #get the subset of samples predicted as clean\n",
        "      clean_loader = torch.utils.data.DataLoader(train_clean,\n",
        "                                              batch_size = batch_size,\n",
        "                                              shuffle = True,num_workers=4,pin_memory=True)\n",
        "      trainloader=clean_loader\n",
        "\n",
        "    print('Epoch [{}/{}],\\ttrain loss:{:.4f},\\ttrain acc:{:.2f},\\ttest loss:{:.4f},\\ttest accuracy:{:.2f}'.format(epoch,num_epochs,train_loss,train_acc, loss_test, acc_test))\n",
        "  \n",
        "  return logs"
      ],
      "execution_count": 133,
      "outputs": []
    },
    {
      "cell_type": "code",
      "metadata": {
        "id": "MmnupS_26Xj_"
      },
      "source": [
        "#train with 70% sym noise\n",
        "train_loader.dataset.targets = label_noise['70_sym'].clone()  #update current labels\n",
        "logs_remove_70_sym = train_test_filtering(ce_loss,train_loader)"
      ],
      "execution_count": null,
      "outputs": []
    },
    {
      "cell_type": "code",
      "metadata": {
        "id": "tCVSst_oCJVV"
      },
      "source": [
        "fig = plt.figure(figsize=(14,5))\n",
        "plt.subplot(1,2,1)\n",
        "plt.plot(logs_baseline['test_acc'], label='test_baseline_clean', linewidth=2, color='k')\n",
        "plt.plot(logs_nb_70_sym['test_acc'], label='test_baseline_70_sym', linewidth=2, color='r')\n",
        "plt.plot(logs_apl_70_sym['test_acc'], label='test__APL_70_sym', linewidth=2, color='b')\n",
        "plt.plot(logs_remove_70_sym['test_acc'], label='test_remove_70_sym', linewidth=2, color='g')\n",
        "plt.grid(True, color=\"#93a1a1\", alpha=0.3)\n",
        "plt.ylabel(\"Accuracy\", labelpad=15, fontsize=12, color=\"#333533\", fontweight='bold');\n",
        "plt.xlabel(\"Epoch\", labelpad=15, fontsize=12, color=\"#333533\", fontweight='bold');\n",
        "plt.legend(loc='upper center', bbox_to_anchor=(0.5, -0.2),\n",
        "          fancybox=True, shadow=True, ncol=4)\n",
        "plt.ylim(70, 100,10)"
      ],
      "execution_count": null,
      "outputs": []
    },
    {
      "cell_type": "code",
      "metadata": {
        "id": "kx8KmH7eCeHz"
      },
      "source": [
        "# combine removal with apl loss\n",
        "train_loader.dataset.targets = label_noise['70_sym'].clone()  #update current labels\n",
        "logs_remove_apl_70_sym = train_test_filtering(criterion,train_loader)"
      ],
      "execution_count": null,
      "outputs": []
    },
    {
      "cell_type": "code",
      "metadata": {
        "id": "-iM8H1nXDag2"
      },
      "source": [
        "fig = plt.figure(figsize=(14,5))\n",
        "plt.subplot(1,2,1)\n",
        "plt.plot(logs_baseline['test_acc'], label='test_baseline_clean', linewidth=2, color='k')\n",
        "plt.plot(logs_nb_70_sym['test_acc'], label='test_baseline_70_sym', linewidth=2, color='r')\n",
        "plt.plot(logs_remove_apl_70_sym['test_acc'], label='test_rem_APL_70_sym', linewidth=2, color='b')\n",
        "plt.plot(logs_remove_70_sym['test_acc'], label='test_remove_70_sym', linewidth=2, color='g')\n",
        "plt.grid(True, color=\"#93a1a1\", alpha=0.3)\n",
        "plt.ylabel(\"Accuracy\", labelpad=15, fontsize=12, color=\"#333533\", fontweight='bold');\n",
        "plt.xlabel(\"Epoch\", labelpad=15, fontsize=12, color=\"#333533\", fontweight='bold');\n",
        "plt.legend(loc='upper center', bbox_to_anchor=(0.5, -0.2),\n",
        "          fancybox=True, shadow=True, ncol=4)\n",
        "plt.ylim(70, 100,10)"
      ],
      "execution_count": null,
      "outputs": []
    },
    {
      "cell_type": "markdown",
      "metadata": {
        "id": "OGmfxn6ND7K7"
      },
      "source": [
        "## Data augmentation (Mixup)"
      ]
    },
    {
      "cell_type": "code",
      "metadata": {
        "id": "udIbpkFicP07"
      },
      "source": [
        "def train_epoch_mixup(net, loss_function, dataloader_clean, dataloader_noisy, optimizer):\n",
        "  train_loss = train_acc = correct = 0\n",
        "  net.train()\n",
        "  for i ,(images,labels) in enumerate(dataloader_clean):\n",
        "    \n",
        "    \n",
        "\n",
        "    targets_x = torch.zeros(images.size(0), 10).scatter_(1, labels.view(-1,1), 1)\n",
        "    images = images.to(device)\n",
        "    # labels = labels.to(device)\n",
        "    targets_x = targets_x.to(device)\n",
        "    labels = labels.to(device)\n",
        "    try:\n",
        "      unlabeled_train_iter = iter(dataloader_noisy)\n",
        "      inputs_u, targets_u = unlabeled_train_iter.next() \n",
        "      inputs_u = inputs_u.to(device)\n",
        "      targets_u = torch.zeros(images.size(0), 10).scatter_(1, targets_u.view(-1,1), 1).cuda()\n",
        "    except:\n",
        "      print('error')\n",
        "\n",
        "    \n",
        "    optimizer.zero_grad()\n",
        "    outputs = net(images)\n",
        "\n",
        "    with torch.no_grad():\n",
        "      outputs_u = net(inputs_u)\n",
        "      pu = torch.softmax(outputs_u, dim=1)\n",
        "      # pu = pu**(1/0.5) # temparature sharpening\n",
        "#           targets_u = ptu / ptu.sum(dim=1, keepdim=True) # normalize\n",
        "      labels_u2 = torch.max(outputs_u,1)[1]\n",
        "      targets_u2 = torch.zeros(images.size(0), 10).to(device).scatter_(1, labels_u2.view(-1,1), 1)\n",
        "\n",
        "    # mixmatch\n",
        "    l = np.random.beta(4, 4)        \n",
        "    l = max(l, 1-l)\n",
        "\n",
        "    all_inputs = torch.cat([images, images ], dim=0)\n",
        "    all_targets = torch.cat([targets_x, targets_x], dim=0)\n",
        "    idx = torch.randperm(all_inputs.size(0))\n",
        "    # idx = torch.randperm(images.size(0))\n",
        "\n",
        "    input_a, input_b = all_inputs, all_inputs[idx]\n",
        "    target_a, target_b = all_targets, all_targets[idx]\n",
        "              \n",
        "    mixed_input = l * input_a + (1 - l) * input_b        \n",
        "    # mixed_input = l * images + (1 - l) * inputs_u        \n",
        "    mixed_target = l * target_a + (1 - l) * target_b\n",
        "    # mixed_target = l * targets_x + (1 - l) * targets_u2\n",
        "    # mixed_target = l * targets_x + (1 - l) * targets_u\n",
        "\n",
        "    outputsa = net(mixed_input)\n",
        "    outputs = net(images)\n",
        "\n",
        "    #loss = loss_function(outputs, labels)\n",
        "    # loss = loss_function(outputs, labels)\n",
        "    # lx = -torch.mean(torch.sum(F.log_softmax(outputs, dim=1) * mixed_target, dim=1))\n",
        "    # loss2 = -torch.mean(torch.sum(F.log_softmax(outputs, dim=1) * mixed_target, dim=1))\n",
        "    lxa = -torch.mean(torch.sum(F.log_softmax(outputsa, dim=1) * mixed_target, dim=1))\n",
        "    lx = -torch.mean(torch.sum(F.log_softmax(outputs, dim=1) * targets_x, dim=1))\n",
        "    lu = -torch.mean(torch.sum(pu.log()*pu, dim=1)) #entropy\n",
        "    loss = lxa+lx + lu\n",
        "    train_loss+= loss \n",
        "    loss.backward()\n",
        "\n",
        "    optimizer.step()\n",
        "\n",
        "    _, pred = torch.max(outputs, 1)  \n",
        "    # import pdb; pdb.set_trace()\n",
        "    #correct += pred.eq(labels).cpu().sum().item() \n",
        "    #correct += pred.eq(labels).cpu().sum().item() \n",
        "    # correct += pred.eq(mixed_target).cpu().sum().item() \n",
        "    correct=0\n",
        "    # correct += pred.eq(labels).sum().item() \n",
        "        \n",
        "  train_loss/=len(dataloader_clean)\n",
        "  train_acc=100.*correct/len(dataloader_clean.dataset)\n",
        "  return train_loss, train_acc"
      ],
      "execution_count": 566,
      "outputs": []
    },
    {
      "cell_type": "code",
      "metadata": {
        "id": "kXpyH2RTEKKC"
      },
      "source": [
        "def train_test_mixup(loss_function,trainloader):\n",
        "  torch.manual_seed(seed)\n",
        "  net = Net()\n",
        "  net = net.to(device)\n",
        "  optimizer = torch.optim.Adam( net.parameters(), lr=lr) \n",
        "\n",
        "  logs={'train_loss':[],'train_acc':[], 'test_loss':[], 'test_acc':[],'eval_loss':[]}\n",
        "\n",
        "  for epoch in range(num_epochs):\n",
        "    if epoch <=15:\n",
        "      train_loss, train_acc = train_epoch(net, loss_function, trainloader, optimizer)\n",
        "    else:\n",
        "      train_loss, train_acc = train_epoch_mixup(net, loss_function, clean_loader, noisy_loader, optimizer)\n",
        "\n",
        "    \n",
        "    logs['train_loss'].append(train_loss)\n",
        "    logs['train_acc'].append(train_acc)\n",
        "    eval_loss, prob = eval(net, eval_loader)\n",
        "    logs['eval_loss'].append(eval_loss)\n",
        "    \n",
        "    acc_test, loss_test=test(net, loss_function, test_loader)\n",
        "    logs['test_loss'].append(loss_test)\n",
        "    logs['test_acc'].append(acc_test)\n",
        "\n",
        "    if epoch>=15:\n",
        "      pred_idx_clean = (prob > 0.5).nonzero()[0]\n",
        "      pred_idx_noisy = (prob <= 0.5).nonzero()[0]\n",
        "      \n",
        "      train_clean = Subset(train_data, pred_idx_clean)    #get the subset of samples predicted as clean\n",
        "      clean_loader = torch.utils.data.DataLoader(train_clean,\n",
        "                                              batch_size = batch_size,\n",
        "                                              shuffle = True,num_workers=2,pin_memory=True, drop_last=True)\n",
        "      train_noisy = Subset(train_data, pred_idx_noisy)\n",
        "      noisy_loader = torch.utils.data.DataLoader(train_noisy,\n",
        "                                              batch_size = batch_size, drop_last=True,\n",
        "                                              shuffle = True,num_workers=2,pin_memory=True)\n",
        "      \n",
        "      trainloader=clean_loader\n",
        "\n",
        "    print('Epoch [{}/{}],\\ttrain loss:{:.4f},\\ttrain acc:{:.2f},\\ttest loss:{:.4f},\\ttest accuracy:{:.2f}'.format(epoch,num_epochs,train_loss,train_acc, loss_test, acc_test))\n",
        "  # return log_losses_train, log_losses_test, log_acc_train, log_acc_test, log_losses_eval\n",
        "  return logs"
      ],
      "execution_count": 567,
      "outputs": []
    },
    {
      "cell_type": "code",
      "metadata": {
        "id": "5fLb1QEbgI5U",
        "outputId": "bf98dcbe-3d9e-45e6-99c0-307511ca1ba4",
        "colab": {
          "base_uri": "https://localhost:8080/"
        }
      },
      "source": [
        "train_loader.dataset.targets = label_noise['70_sym'].clone()  #update current labels\n",
        "# losses_train30, losses_test30, acc_train_log30, acc_test_log30, all_loss_idx_30 = train(ce_loss)\n",
        "logs_mixup_70_sym = train_test_mixup(ce_loss,train_loader)"
      ],
      "execution_count": null,
      "outputs": [
        {
          "output_type": "stream",
          "text": [
            "Epoch [0/40],\ttrain loss:2.3099,\ttrain acc:10.70,\ttest loss:2.2753,\ttest accuracy:17.55\n",
            "Epoch [1/40],\ttrain loss:2.2897,\ttrain acc:12.35,\ttest loss:2.2339,\ttest accuracy:31.56\n"
          ],
          "name": "stdout"
        }
      ]
    },
    {
      "cell_type": "code",
      "metadata": {
        "id": "sBn-vezzlGID",
        "outputId": "ccda75c7-9b06-4988-dacf-ac35b8d8c28f",
        "colab": {
          "base_uri": "https://localhost:8080/",
          "height": 416
        }
      },
      "source": [
        "fig = plt.figure(figsize=(14,5))\n",
        "plt.subplot(1,2,1)\n",
        "# plt.plot(logs_baseline['train_acc'], label='train_baseline_clean', linewidth=2, linestyle='--',color='k')\n",
        "# plt.plot(logs_nb_70_sym['train_acc'], label='train_baseline_70_sym', linewidth=2, linestyle='--', color='r')\n",
        "# plt.plot(logs_apl_70_sym['train_acc'], label='train_APL_70_sym', linewidth=2, linestyle='--', color='b')\n",
        "# plt.plot(logs_nb_40_asym['train_acc'], label='train_40_asym', linewidth=2, linestyle='--', color='b')\n",
        "plt.plot(logs_baseline['test_acc'], label='test_baseline_clean', linewidth=2, color='k')\n",
        "plt.plot(logs_nb_70_sym['test_acc'], label='test_baseline_70_sym', linewidth=2, color='r')\n",
        "plt.plot(logs_remove_apl_70_sym['test_acc'], label='test_rem_APL_70_sym', linewidth=2, color='b')\n",
        "plt.plot(logs_remove_70_sym['test_acc'], label='test_remove_70_sym', linewidth=2, color='g')\n",
        "plt.plot(logs_mixup_70_sym['test_acc'], label='test_mixup_70_sym', linewidth=2, color='orange')\n",
        "# plt.plot(logs_nb_40_asym['test_acc'], label='test_40_asym', linewidth=2, color='b')\n",
        "# plt.legend(frameon=False)\n",
        "plt.grid(True, color=\"#93a1a1\", alpha=0.3)\n",
        "plt.ylabel(\"Accuracy\", labelpad=15, fontsize=12, color=\"#333533\", fontweight='bold');\n",
        "plt.xlabel(\"Epoch\", labelpad=15, fontsize=12, color=\"#333533\", fontweight='bold');\n",
        "plt.legend(loc='upper center', bbox_to_anchor=(0.5, -0.2),\n",
        "          fancybox=True, shadow=True, ncol=4)\n",
        "plt.ylim(70, 100,10)"
      ],
      "execution_count": 563,
      "outputs": [
        {
          "output_type": "execute_result",
          "data": {
            "text/plain": [
              "(70.0, 100.0)"
            ]
          },
          "metadata": {
            "tags": []
          },
          "execution_count": 563
        },
        {
          "output_type": "display_data",
          "data": {
            "image/png": "[encoded data removed]",
            "text/plain": [
              "<Figure size 1008x360 with 1 Axes>"
            ]
          },
          "metadata": {
            "tags": [],
            "image/png": {
              "width": 621,
              "height": 382
            },
            "needs_background": "light"
          }
        }
      ]
    },
    {
      "cell_type": "markdown",
      "metadata": {
        "id": "4WNV5wEKjbQe"
      },
      "source": [
        "### gmm + data augm (mixup)"
      ]
    },
    {
      "cell_type": "code",
      "metadata": {
        "id": "ckGAlDFMgE1g"
      },
      "source": [
        ""
      ],
      "execution_count": null,
      "outputs": []
    },
    {
      "cell_type": "code",
      "metadata": {
        "id": "r_P0xJWpI8OA"
      },
      "source": [
        ""
      ],
      "execution_count": null,
      "outputs": []
    },
    {
      "cell_type": "code",
      "metadata": {
        "id": "2ziGZa0xjgui"
      },
      "source": [
        "# #@title Training the model filter\n",
        "# import os\n",
        "# from torch.utils.data import Subset\n",
        "# CE = nn.CrossEntropyLoss(reduction='none')\n",
        "# def train_mixup(loss_function):\n",
        "  \n",
        "  \n",
        "#   # os.environ['CUDA_LAUNCH_BLOCKING'] = \"1\"\n",
        "#   #initialize network\n",
        "#   torch.manual_seed(seed)\n",
        "#   net = Net()\n",
        "#   net = net.to(device)\n",
        "#   optimizer = torch.optim.Adam( net.parameters(), lr=lr) \n",
        "\n",
        "#   losses_train=[]\n",
        "#   losses_test=[]\n",
        "#   acc_train_log=[]\n",
        "#   acc_test_log=[]\n",
        "#   all_losses=[]\n",
        "\n",
        "  \n",
        "#   clean_gen = train_gen\n",
        "#   #for epoch in range(num_epochs):\n",
        "#   wm=15\n",
        "#   for epoch in range(num_epochs):\n",
        "#     train_loss = train_acc = correct = 0\n",
        "#     net.train()\n",
        "#     count=0\n",
        "#     if epoch>wm:\n",
        "#       unlabeled_train_iter = iter(noisy_gen) \n",
        "    \n",
        "#     for i ,(images,targets_x) in enumerate(clean_gen):\n",
        "#       count+=images.size(0)\n",
        "#       #images = Variable(images.view(-1,28*28)).cuda()\n",
        "#       #images = images.view(-1,28*28).to(device)\n",
        "#       inputs_x = images.to(device)\n",
        "\n",
        "#       targets_x = torch.zeros(images.size(0), 10).scatter_(1, targets_x.view(-1,1), 1)\n",
        "#       targets_x = targets_x.to(device)\n",
        "#       # targets_x = labels.to(device)\n",
        "\n",
        "#       optimizer.zero_grad()\n",
        "#       outputs = net(inputs_x)\n",
        "      \n",
        "#       if epoch<=wm:\n",
        "#         # loss = loss_function(outputs, targets_x)\n",
        "#         outputs = net(inputs_x) \n",
        "#         loss = -torch.mean(torch.sum(F.log_softmax(outputs, dim=1) * targets_x, dim=1))\n",
        "#       else:\n",
        "\n",
        "#         try:\n",
        "#           inputs_u, _ = unlabeled_train_iter.next()\n",
        "#         except:\n",
        "#           unlabeled_train_iter = iter(noisy_gen)\n",
        "#           inputs_u, _ = unlabeled_train_iter.next()  \n",
        "#         inputs_u = inputs_u.to(device)\n",
        "\n",
        "#         with torch.no_grad():\n",
        "#           outputs_u = net(inputs_u)\n",
        "#           pu = torch.softmax(outputs_u, dim=1)\n",
        "#           ptu = pu**(1/0.5) # temparature sharpening\n",
        "#           targets_u = ptu / ptu.sum(dim=1, keepdim=True) # normalize\n",
        "#           # targets_u=ptu\n",
        "#         # targets_u = targets_u.detach()\n",
        "\n",
        "#         # join_input = torch.cat([inputs_x, inputs_u], dim=0)\n",
        "#         # join_outputs = net(join_input)  \n",
        "#         # outputs= join_outputs[:batch_size]\n",
        "#         # outputs_u= join_outputs[batch_size:]\n",
        "#         # pu = torch.softmax(outputs_u, dim=1)\n",
        "\n",
        "#         # mixmatch\n",
        "#         l = np.random.beta(4, 4)        \n",
        "#         l = max(l, 1-l)\n",
        "\n",
        "#         all_inputs = torch.cat([inputs_x,inputs_x, inputs_u,inputs_u ], dim=0)\n",
        "#         # print(inputs_x.size(0),inputs_u.size(0))\n",
        "#         # print(targets_x.shape,targets_u.shape)\n",
        "#         # print(targets_x)\n",
        "#         # print(targets_u)\n",
        "#         all_targets = torch.cat([targets_x,targets_x, targets_u,targets_u], dim=0)\n",
        "\n",
        "#         idx = torch.randperm(all_inputs.size(0))\n",
        "\n",
        "#         input_a, input_b = all_inputs, all_inputs[idx]\n",
        "#         target_a, target_b = all_targets, all_targets[idx]\n",
        "              \n",
        "#         mixed_input = l * input_a + (1 - l) * input_b        \n",
        "#         mixed_target = l * target_a + (1 - l) * target_b\n",
        "                      \n",
        "#         logits = net(mixed_input)\n",
        "#         logits_x = logits[:batch_size*2]\n",
        "#         logits_u = logits[batch_size*2:] \n",
        "\n",
        "#         target_x = mixed_target[:batch_size*2]\n",
        "#         # target_x = targets_x\n",
        "#         # targets_u= mixed_target[batch_size:]\n",
        "\n",
        "#         # probs_u = torch.softmax(logits_u, dim=1)\n",
        "#         Lx = -torch.mean(torch.sum(F.log_softmax(logits_x, dim=1) * mixed_target[:batch_size*2], dim=1))\n",
        "#         # Lx = -torch.mean(torch.sum(F.log_softmax(outputs, dim=1) * target_x, dim=1))\n",
        "#         #Lu = torch.mean((probs_u - targets_u)**2) \n",
        "#         Lu = -torch.mean(torch.sum(pu.log()*pu, dim=1)) #entropy\n",
        "        \n",
        "        \n",
        "#         #loss = loss_function(outputs, labels)\n",
        "#         loss = Lx + 0*Lu\n",
        "#       # if epoch>0:\n",
        "#       #   print('enter')\n",
        "#       #   loss = CE(outputs, labels)\n",
        "#       #   loss = loss[idx_pred_c].mean()\n",
        "#       train_loss+= loss\n",
        "#       loss.backward()\n",
        "\n",
        "#       optimizer.step()\n",
        "\n",
        "#       _, pred = torch.max(outputs, 1)  \n",
        "#       # correct += pred.eq(targets_x).cpu().sum().item() \n",
        "#       correct = 0\n",
        "      \n",
        "#     print(count)\n",
        "#     train_loss/=len(clean_gen)\n",
        "#     train_acc=100.*correct/len(clean_gen.dataset)\n",
        "\n",
        "#     losses_train.append(train_loss)\n",
        "#     acc_train_log.append(train_acc)\n",
        "\n",
        "#     # all_losses.append(eval(net))\n",
        "#     losses, prob = eval(net)\n",
        "#     all_losses.append(losses)\n",
        "\n",
        "#     if epoch>=wm:\n",
        "#       pred_idx_clean = (prob > 0.5).nonzero()[0]\n",
        "#       pred_idx_noisy = (prob <= 0.5).nonzero()[0]\n",
        "      \n",
        "#       train_clean = Subset(train_data, pred_idx_clean)\n",
        "#       train_noisy = Subset(train_data, pred_idx_noisy)\n",
        "#       # clean_dataset.data = train_data.data[inds_clean]\n",
        "#       clean_gen = torch.utils.data.DataLoader(train_clean,\n",
        "#                                               batch_size = batch_size, drop_last=True,\n",
        "#                                               shuffle = True,num_workers=8,pin_memory=True)\n",
        "#       noisy_gen = torch.utils.data.DataLoader(train_noisy,\n",
        "#                                               batch_size = batch_size, drop_last=True,\n",
        "#                                               shuffle = True,num_workers=8,pin_memory=True)\n",
        "\n",
        "#     # import pdb;pdb.set_trace()\n",
        "#     # idx_pred_c = (noisy_labels==gt_labels).nonzero()[0]\n",
        "#     # idx_pred_c = inds_clean\n",
        "#     # import pdb; pdb.set_trace()\n",
        "#     acc_test, loss_test=test(net, loss_function)\n",
        "#     losses_test.append(loss_test)\n",
        "#     acc_test_log.append(acc_test)\n",
        "#     print('Epoch [{}/{}],\\ttrain loss:{:.4f},\\ttrain acc:{:.2f},\\ttest loss:{:.4f},\\ttest accuracy:{:.2f}'.format(epoch,num_epochs,train_loss,train_acc, loss_test, acc_test))\n",
        "#     #testing\n",
        "    \n",
        "#   return losses_train, losses_test, acc_train_log, acc_test_log, all_losses\n"
      ],
      "execution_count": 31,
      "outputs": []
    },
    {
      "cell_type": "code",
      "metadata": {
        "id": "Wj8iI69W8AdR",
        "outputId": "254626e7-22c3-4d55-ca3c-49f6d106c07e",
        "colab": {
          "base_uri": "https://localhost:8080/"
        }
      },
      "source": [
        "train_data.targets = noisy_labels70  #update current labels\n",
        "losses_train70_F, losses_test70_F, acc_train_log70_F, acc_test_log70_F, all_loss_idx_F = train_mixup(ce_loss)"
      ],
      "execution_count": 32,
      "outputs": [
        {
          "output_type": "stream",
          "text": [
            "5000\n",
            "Epoch [0/40],\ttrain loss:2.3040,\ttrain acc:0.00,\ttest loss:2.2522,\ttest accuracy:36.06\n",
            "5000\n",
            "Epoch [1/40],\ttrain loss:2.2816,\ttrain acc:0.00,\ttest loss:2.1325,\ttest accuracy:62.85\n",
            "5000\n",
            "Epoch [2/40],\ttrain loss:2.2465,\ttrain acc:0.00,\ttest loss:1.9351,\ttest accuracy:80.39\n",
            "5000\n",
            "Epoch [3/40],\ttrain loss:2.2220,\ttrain acc:0.00,\ttest loss:1.8751,\ttest accuracy:72.05\n",
            "5000\n",
            "Epoch [4/40],\ttrain loss:2.2116,\ttrain acc:0.00,\ttest loss:1.7440,\ttest accuracy:81.66\n",
            "5000\n",
            "Epoch [5/40],\ttrain loss:2.2020,\ttrain acc:0.00,\ttest loss:1.7534,\ttest accuracy:87.61\n",
            "5000\n",
            "Epoch [6/40],\ttrain loss:2.1998,\ttrain acc:0.00,\ttest loss:1.7678,\ttest accuracy:89.82\n",
            "5000\n",
            "Epoch [7/40],\ttrain loss:2.1870,\ttrain acc:0.00,\ttest loss:1.7170,\ttest accuracy:89.44\n",
            "5000\n",
            "Epoch [8/40],\ttrain loss:2.1821,\ttrain acc:0.00,\ttest loss:1.6566,\ttest accuracy:90.28\n",
            "5000\n",
            "Epoch [9/40],\ttrain loss:2.1767,\ttrain acc:0.00,\ttest loss:1.6417,\ttest accuracy:90.29\n",
            "5000\n",
            "Epoch [10/40],\ttrain loss:2.1574,\ttrain acc:0.00,\ttest loss:1.5970,\ttest accuracy:89.66\n",
            "5000\n",
            "Epoch [11/40],\ttrain loss:2.1629,\ttrain acc:0.00,\ttest loss:1.6148,\ttest accuracy:91.19\n",
            "5000\n",
            "Epoch [12/40],\ttrain loss:2.1612,\ttrain acc:0.00,\ttest loss:1.6672,\ttest accuracy:89.72\n",
            "5000\n",
            "Epoch [13/40],\ttrain loss:2.1505,\ttrain acc:0.00,\ttest loss:1.5913,\ttest accuracy:91.06\n",
            "5000\n",
            "Epoch [14/40],\ttrain loss:2.1433,\ttrain acc:0.00,\ttest loss:1.6103,\ttest accuracy:91.29\n",
            "5000\n",
            "Epoch [15/40],\ttrain loss:2.1391,\ttrain acc:0.00,\ttest loss:1.5324,\ttest accuracy:91.62\n",
            "1700\n",
            "Epoch [16/40],\ttrain loss:1.8581,\ttrain acc:0.00,\ttest loss:0.6495,\ttest accuracy:90.15\n",
            "1600\n",
            "Epoch [17/40],\ttrain loss:1.5867,\ttrain acc:0.00,\ttest loss:0.5576,\ttest accuracy:89.81\n",
            "1600\n",
            "Epoch [18/40],\ttrain loss:1.5808,\ttrain acc:0.00,\ttest loss:0.4949,\ttest accuracy:91.08\n",
            "1600\n",
            "Epoch [19/40],\ttrain loss:1.5873,\ttrain acc:0.00,\ttest loss:0.4996,\ttest accuracy:91.56\n",
            "1600\n",
            "Epoch [20/40],\ttrain loss:1.6163,\ttrain acc:0.00,\ttest loss:0.4520,\ttest accuracy:91.41\n",
            "1600\n",
            "Epoch [21/40],\ttrain loss:1.5356,\ttrain acc:0.00,\ttest loss:0.4629,\ttest accuracy:91.48\n",
            "1600\n",
            "Epoch [22/40],\ttrain loss:1.5460,\ttrain acc:0.00,\ttest loss:0.4647,\ttest accuracy:91.56\n",
            "1600\n",
            "Epoch [23/40],\ttrain loss:1.5534,\ttrain acc:0.00,\ttest loss:0.4341,\ttest accuracy:91.41\n",
            "1600\n",
            "Epoch [24/40],\ttrain loss:1.5752,\ttrain acc:0.00,\ttest loss:0.4335,\ttest accuracy:90.93\n",
            "1600\n",
            "Epoch [25/40],\ttrain loss:1.5626,\ttrain acc:0.00,\ttest loss:0.4461,\ttest accuracy:91.35\n",
            "1600\n",
            "Epoch [26/40],\ttrain loss:1.5369,\ttrain acc:0.00,\ttest loss:0.4260,\ttest accuracy:91.88\n",
            "1600\n",
            "Epoch [27/40],\ttrain loss:1.4134,\ttrain acc:0.00,\ttest loss:0.4056,\ttest accuracy:92.29\n",
            "1600\n",
            "Epoch [28/40],\ttrain loss:1.5540,\ttrain acc:0.00,\ttest loss:0.4263,\ttest accuracy:91.42\n",
            "1600\n",
            "Epoch [29/40],\ttrain loss:1.5050,\ttrain acc:0.00,\ttest loss:0.4217,\ttest accuracy:92.06\n",
            "1600\n",
            "Epoch [30/40],\ttrain loss:1.5168,\ttrain acc:0.00,\ttest loss:0.3990,\ttest accuracy:92.33\n",
            "1600\n",
            "Epoch [31/40],\ttrain loss:1.4545,\ttrain acc:0.00,\ttest loss:0.3858,\ttest accuracy:92.57\n",
            "1600\n",
            "Epoch [32/40],\ttrain loss:1.4330,\ttrain acc:0.00,\ttest loss:0.3904,\ttest accuracy:92.16\n",
            "1600\n",
            "Epoch [33/40],\ttrain loss:1.4715,\ttrain acc:0.00,\ttest loss:0.3909,\ttest accuracy:92.18\n",
            "1600\n",
            "Epoch [34/40],\ttrain loss:1.4258,\ttrain acc:0.00,\ttest loss:0.3852,\ttest accuracy:92.82\n",
            "1600\n",
            "Epoch [35/40],\ttrain loss:1.4687,\ttrain acc:0.00,\ttest loss:0.3530,\ttest accuracy:93.15\n",
            "1700\n",
            "Epoch [36/40],\ttrain loss:1.4269,\ttrain acc:0.00,\ttest loss:0.3772,\ttest accuracy:92.61\n",
            "1700\n",
            "Epoch [37/40],\ttrain loss:1.4376,\ttrain acc:0.00,\ttest loss:0.3777,\ttest accuracy:93.24\n",
            "1700\n",
            "Epoch [38/40],\ttrain loss:1.4368,\ttrain acc:0.00,\ttest loss:0.3577,\ttest accuracy:93.10\n",
            "1700\n",
            "Epoch [39/40],\ttrain loss:1.4598,\ttrain acc:0.00,\ttest loss:0.3846,\ttest accuracy:93.37\n"
          ],
          "name": "stdout"
        }
      ]
    }
  ]
}